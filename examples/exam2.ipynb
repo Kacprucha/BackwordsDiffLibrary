{
 "cells": [
  {
   "cell_type": "code",
   "execution_count": 7,
   "metadata": {},
   "outputs": [
    {
     "ename": "ArgumentError",
     "evalue": "ArgumentError: Package dataTyp not found in current path.\n- Run `import Pkg; Pkg.add(\"dataTyp\")` to install the dataTyp package.",
     "output_type": "error",
     "traceback": [
      "ArgumentError: Package dataTyp not found in current path.\n",
      "- Run `import Pkg; Pkg.add(\"dataTyp\")` to install the dataTyp package.\n",
      "\n",
      "Stacktrace:\n",
      "  [1] macro expansion\n",
      "    @ .\\loading.jl:2296 [inlined]\n",
      "  [2] macro expansion\n",
      "    @ .\\lock.jl:273 [inlined]\n",
      "  [3] __require(into::Module, mod::Symbol)\n",
      "    @ Base .\\loading.jl:2271\n",
      "  [4] #invoke_in_world#3\n",
      "    @ .\\essentials.jl:1089 [inlined]\n",
      "  [5] invoke_in_world\n",
      "    @ .\\essentials.jl:1086 [inlined]\n",
      "  [6] require(into::Module, mod::Symbol)\n",
      "    @ Base .\\loading.jl:2260\n",
      "  [7] eval\n",
      "    @ .\\boot.jl:430 [inlined]\n",
      "  [8] include_string(mapexpr::typeof(REPL.softscope), mod::Module, code::String, filename::String)\n",
      "    @ Base .\\loading.jl:2734\n",
      "  [9] #invokelatest#2\n",
      "    @ .\\essentials.jl:1055 [inlined]\n",
      " [10] invokelatest\n",
      "    @ .\\essentials.jl:1052 [inlined]\n",
      " [11] (::VSCodeServer.var\"#217#218\"{VSCodeServer.NotebookRunCellArguments, String})()\n",
      "    @ VSCodeServer c:\\Users\\User\\.vscode\\extensions\\julialang.language-julia-1.127.2\\scripts\\packages\\VSCodeServer\\src\\serve_notebook.jl:24\n",
      " [12] withpath(f::VSCodeServer.var\"#217#218\"{VSCodeServer.NotebookRunCellArguments, String}, path::String)\n",
      "    @ VSCodeServer c:\\Users\\User\\.vscode\\extensions\\julialang.language-julia-1.127.2\\scripts\\packages\\VSCodeServer\\src\\repl.jl:276\n",
      " [13] notebook_runcell_request(conn::VSCodeServer.JSONRPC.JSONRPCEndpoint{Base.PipeEndpoint, Base.PipeEndpoint}, params::VSCodeServer.NotebookRunCellArguments)\n",
      "    @ VSCodeServer c:\\Users\\User\\.vscode\\extensions\\julialang.language-julia-1.127.2\\scripts\\packages\\VSCodeServer\\src\\serve_notebook.jl:13\n",
      " [14] dispatch_msg(x::VSCodeServer.JSONRPC.JSONRPCEndpoint{Base.PipeEndpoint, Base.PipeEndpoint}, dispatcher::VSCodeServer.JSONRPC.MsgDispatcher, msg::Dict{String, Any})\n",
      "    @ VSCodeServer.JSONRPC c:\\Users\\User\\.vscode\\extensions\\julialang.language-julia-1.127.2\\scripts\\packages\\JSONRPC\\src\\typed.jl:67\n",
      " [15] serve_notebook(pipename::String, debugger_pipename::String, outputchannel_logger::Base.CoreLogging.SimpleLogger; error_handler::var\"#5#10\"{String})\n",
      "    @ VSCodeServer c:\\Users\\User\\.vscode\\extensions\\julialang.language-julia-1.127.2\\scripts\\packages\\VSCodeServer\\src\\serve_notebook.jl:147\n",
      " [16] top-level scope\n",
      "    @ c:\\Users\\User\\.vscode\\extensions\\julialang.language-julia-1.127.2\\scripts\\notebook\\notebook.jl:35"
     ]
    }
   ],
   "source": [
    "using dataTyp\n",
    "using overloadMethods\n",
    "using gradient"
   ]
  },
  {
   "cell_type": "code",
   "execution_count": 5,
   "metadata": {},
   "outputs": [
    {
     "ename": "UndefVarError",
     "evalue": "UndefVarError: `ReverseNode` not defined in `Main`\nSuggestion: check for spelling errors or missing imports.",
     "output_type": "error",
     "traceback": [
      "UndefVarError: `ReverseNode` not defined in `Main`\n",
      "Suggestion: check for spelling errors or missing imports.\n",
      "\n",
      "Stacktrace:\n",
      " [1] top-level scope\n",
      "   @ c:\\Users\\User\\Desktop\\Sem 8\\Algorytmy\\Projekt\\BackwordsDiffLibrary\\examples\\jl_notebook_cell_df34fa98e69747e1a8f8a730347b8e2f_W2sZmlsZQ==.jl:2"
     ]
    }
   ],
   "source": [
    "# Example function: f(x,y) = sin(3*x + y) + x*sin(y)\n",
    "function f(x::ReverseNode, y::ReverseNode)\n",
    "    # We can \"lift\" constants as ReverseNode too.\n",
    "    three = lift(3.0)\n",
    "    return sin(three * x + y) + x * sin(y)\n",
    "end"
   ]
  },
  {
   "cell_type": "code",
   "execution_count": null,
   "metadata": {},
   "outputs": [],
   "source": [
    "# Compute gradient at (x = 1.0, y = 2.0)\n",
    "input_vals = [2.0, 5.0]\n",
    "computed_gradient = grad(g, input_vals)\n",
    "println(\"Gradient at (1.0, 2.0): \", computed_gradient)"
   ]
  }
 ],
 "metadata": {
  "kernelspec": {
   "display_name": "Julia 1.11.3",
   "language": "julia",
   "name": "julia-1.11"
  },
  "language_info": {
   "file_extension": ".jl",
   "mimetype": "application/julia",
   "name": "julia",
   "version": "1.11.3"
  }
 },
 "nbformat": 4,
 "nbformat_minor": 2
}
