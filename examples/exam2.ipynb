{
 "cells": [
  {
   "cell_type": "code",
   "execution_count": 1,
   "metadata": {},
   "outputs": [],
   "source": [
    "using BackwordsDiffLibrary"
   ]
  },
  {
   "cell_type": "code",
   "execution_count": 2,
   "metadata": {},
   "outputs": [
    {
     "data": {
      "text/plain": [
       "f (generic function with 1 method)"
      ]
     },
     "metadata": {},
     "output_type": "display_data"
    }
   ],
   "source": [
    "# Example function: f(x,y) = sin(3*x + y) + x*sin(y)\n",
    "function f(x::ReverseNode, y::ReverseNode)\n",
    "    # We can \"lift\" constants as ReverseNode too.\n",
    "    three = lift(3.0)\n",
    "    return sin(three * x + y) + x * sin(y)\n",
    "end"
   ]
  },
  {
   "cell_type": "code",
   "execution_count": 3,
   "metadata": {},
   "outputs": [
    {
     "name": "stdout",
     "output_type": "stream",
     "text": [
      "Gradient at (1.0, 2.0): [1.7602839832153605, -0.13248465108391616]\n"
     ]
    }
   ],
   "source": [
    "# Compute gradient at (x = 1.0, y = 2.0)\n",
    "input_vals = [1.0, 2.0]\n",
    "computed_gradient = grad(f, input_vals)\n",
    "println(\"Gradient at (1.0, 2.0): \", computed_gradient[1])"
   ]
  }
 ],
 "metadata": {
  "kernelspec": {
   "display_name": "Julia 1.11.3",
   "language": "julia",
   "name": "julia-1.11"
  },
  "language_info": {
   "file_extension": ".jl",
   "mimetype": "application/julia",
   "name": "julia",
   "version": "1.11.3"
  }
 },
 "nbformat": 4,
 "nbformat_minor": 2
}
