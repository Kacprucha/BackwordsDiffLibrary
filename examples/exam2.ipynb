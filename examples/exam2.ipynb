{
 "cells": [
  {
   "cell_type": "code",
   "execution_count": 1,
   "metadata": {},
   "outputs": [],
   "source": [
    "using BackwordsDiffLibrary"
   ]
  },
  {
   "cell_type": "code",
   "execution_count": 2,
   "metadata": {},
   "outputs": [
    {
     "data": {
      "text/plain": [
       "f (generic function with 1 method)"
      ]
     },
     "metadata": {},
     "output_type": "display_data"
    }
   ],
   "source": [
    "# Example function: f(x,y) = sin(3*x + y) + x*sin(y)\n",
    "@diffunction f(x,y) = sin(3*x + y) + x*sin(y)"
   ]
  },
  {
   "cell_type": "code",
   "execution_count": 3,
   "metadata": {},
   "outputs": [
    {
     "name": "stdout",
     "output_type": "stream",
     "text": [
      "Gradient at (1.0, 2.0) by x: 1.7602839832153605 y: -0.13248465108391616\n"
     ]
    }
   ],
   "source": [
    "# Compute gradient at (x = 1.0, y = 2.0)\n",
    "input_vals = [1.0, 2.0]\n",
    "computed_gradient = grad(f, input_vals)\n",
    "println(\"Gradient at (1.0, 2.0) by x: \", computed_gradient[1], \" y: \", computed_gradient[2])"
   ]
  }
 ],
 "metadata": {
  "kernelspec": {
   "display_name": "Julia 1.11.3",
   "language": "julia",
   "name": "julia-1.11"
  },
  "language_info": {
   "file_extension": ".jl",
   "mimetype": "application/julia",
   "name": "julia",
   "version": "1.11.3"
  }
 },
 "nbformat": 4,
 "nbformat_minor": 2
}
