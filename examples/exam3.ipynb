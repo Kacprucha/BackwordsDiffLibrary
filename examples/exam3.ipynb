{
 "cells": [
  {
   "cell_type": "code",
   "execution_count": 1,
   "metadata": {},
   "outputs": [],
   "source": [
    "using BackwordsDiffLibrary"
   ]
  },
  {
   "cell_type": "code",
   "execution_count": 2,
   "metadata": {},
   "outputs": [
    {
     "data": {
      "text/plain": [
       "f (generic function with 1 method)"
      ]
     },
     "metadata": {},
     "output_type": "display_data"
    }
   ],
   "source": [
    "# Example function: f(W, x) = sin(W * x)\n",
    "@diffunction f(W, x) = sin(W * x)"
   ]
  },
  {
   "cell_type": "code",
   "execution_count": 3,
   "metadata": {},
   "outputs": [
    {
     "data": {
      "text/plain": [
       "2-element Vector{Float64}:\n",
       " 1.0\n",
       " 2.0"
      ]
     },
     "metadata": {},
     "output_type": "display_data"
    }
   ],
   "source": [
    "# Let’s define W as a 2×2 matrix and x as a 2×1 vector.\n",
    "W_val = [1.0 2.0; 3.0 4.0]\n",
    "x_val = [1.0, 2.0]  # treated as a vector"
   ]
  },
  {
   "cell_type": "code",
   "execution_count": 4,
   "metadata": {},
   "outputs": [
    {
     "name": "stdout",
     "output_type": "stream",
     "text": [
      "Gradient w.r.t. W:\n",
      "[0.28366218546322625 0.5673243709264525; 0.004425697988050785 0.00885139597610157]\n",
      "Gradient w.r.t. x:\n",
      "[0.2969392794273786, 0.5850271628786556]\n"
     ]
    }
   ],
   "source": [
    "# We now compute the gradients.\n",
    "computed_grads = grad(f, [W_val, x_val])\n",
    "println(\"Gradient w.r.t. W:\")\n",
    "println(computed_grads[1])\n",
    "println(\"Gradient w.r.t. x:\")\n",
    "println(computed_grads[2])"
   ]
  }
 ],
 "metadata": {
  "kernelspec": {
   "display_name": "Julia 1.11.3",
   "language": "julia",
   "name": "julia-1.11"
  },
  "language_info": {
   "file_extension": ".jl",
   "mimetype": "application/julia",
   "name": "julia",
   "version": "1.11.3"
  }
 },
 "nbformat": 4,
 "nbformat_minor": 2
}
