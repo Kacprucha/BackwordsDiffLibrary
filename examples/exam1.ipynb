{
 "cells": [
  {
   "cell_type": "code",
   "execution_count": 1,
   "metadata": {},
   "outputs": [],
   "source": [
    "using BackwordsDiffLibrary"
   ]
  },
  {
   "cell_type": "code",
   "execution_count": 2,
   "metadata": {},
   "outputs": [
    {
     "data": {
      "text/plain": [
       "f (generic function with 1 method)"
      ]
     },
     "metadata": {},
     "output_type": "display_data"
    }
   ],
   "source": [
    "# Example function: f(x) = exp(sin(sin(x)))\n",
    "@diffunction f(x) = exp(sin(sin(x))) # Using macro to prepare the function for differentiation"
   ]
  },
  {
   "cell_type": "code",
   "execution_count": 3,
   "metadata": {},
   "outputs": [
    {
     "data": {
      "text/plain": [
       "1.1704219013086041"
      ]
     },
     "metadata": {},
     "output_type": "display_data"
    }
   ],
   "source": [
    "# Let's compute the derivative of f at x = 0.2\n",
    "f_prime(x) = exp(sin(sin(x))) * cos(sin(x)) * cos(x)\n",
    "f_prime(0.2)"
   ]
  },
  {
   "cell_type": "code",
   "execution_count": 5,
   "metadata": {},
   "outputs": [
    {
     "name": "stdout",
     "output_type": "stream",
     "text": [
      "Gradient at 0.2: 1.1704219013086041\n"
     ]
    }
   ],
   "source": [
    "# Compute gradient at x = 0.2\n",
    "input_vals = [0.2]\n",
    "computed_gradient = grad(f, input_vals)\n",
    "println(\"Gradient at 0.2: \", computed_gradient[1])"
   ]
  }
 ],
 "metadata": {
  "kernelspec": {
   "display_name": "Julia 1.11.3",
   "language": "julia",
   "name": "julia-1.11"
  },
  "language_info": {
   "file_extension": ".jl",
   "mimetype": "application/julia",
   "name": "julia",
   "version": "1.11.3"
  }
 },
 "nbformat": 4,
 "nbformat_minor": 2
}
